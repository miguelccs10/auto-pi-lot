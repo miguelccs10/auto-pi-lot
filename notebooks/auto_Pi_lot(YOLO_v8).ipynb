{
  "nbformat": 4,
  "nbformat_minor": 0,
  "metadata": {
    "colab": {
      "provenance": [],
      "gpuType": "T4"
    },
    "kernelspec": {
      "name": "python3",
      "display_name": "Python 3"
    },
    "language_info": {
      "name": "python"
    },
    "accelerator": "GPU"
  },
  "cells": [
    {
      "cell_type": "code",
      "execution_count": null,
      "metadata": {
        "id": "YCOQEklcRax_"
      },
      "outputs": [],
      "source": [
        "# ==============================================================================\n",
        "# NOTEBOOK DE TREINAMENTO YOLOv8 COM DOWNLOAD DO ROBOFLOW\n",
        "# ==============================================================================\n",
        "\n",
        "# 1. INSTALAR AS BIBLIOTECAS NECESSÁRIAS\n",
        "# ------------------------------------------------------------------------------\n",
        "print(\"Instalando Ultralytics e Roboflow...\")\n",
        "!pip install -q ultralytics roboflow\n",
        "print(\"Instalação concluída.\")"
      ]
    },
    {
      "cell_type": "code",
      "source": [
        "# 2. IMPORTAÇÕES E AUTENTICAÇÃO NO ROBOFLOW\n",
        "# ------------------------------------------------------------------------------\n",
        "import os\n",
        "from ultralytics import YOLO\n",
        "from roboflow import Roboflow\n",
        "import shutil\n",
        "\n",
        "print(\"Autenticando no Roboflow...\")\n",
        "rf = Roboflow(api_key=\"kpItsaAjjSHi7wIt4BHe\")\n",
        "print(\"Autenticação bem-sucedida.\")"
      ],
      "metadata": {
        "id": "k1vHjc6sRm0t"
      },
      "execution_count": null,
      "outputs": []
    },
    {
      "cell_type": "code",
      "source": [
        "# 3. DOWNLOAD DO DATASET DO ROBOFLOW\n",
        "# ------------------------------------------------------------------------------\n",
        "print(\"Baixando o dataset do Roboflow...\")\n",
        "try:\n",
        "    project = rf.workspace(\"florian-demolder\").project(\"recognition-of-direction-arrows-for-autonomus-car\")\n",
        "    version = project.version(4)\n",
        "    dataset = version.download(\"yolov8\")\n",
        "\n",
        "    # Guarda o caminho para o arquivo de configuração, que é essencial para o treino\n",
        "    DATASET_CONFIG_PATH = os.path.join(dataset.location, \"data.yaml\")\n",
        "    print(f\"Dataset baixado com sucesso em: {dataset.location}\")\n",
        "    print(f\"Arquivo de configuração encontrado em: {DATASET_CONFIG_PATH}\")\n",
        "except Exception as e:\n",
        "    print(f\"ERRO: Falha ao baixar o dataset. Verifique sua chave de API e o nome do projeto. Detalhes: {e}\")"
      ],
      "metadata": {
        "id": "Hlq_JaNgRkhs"
      },
      "execution_count": null,
      "outputs": []
    },
    {
      "cell_type": "code",
      "source": [
        "# 4. TREINAMENTO DO MODELO YOLOv8\n",
        "# ------------------------------------------------------------------------------\n",
        "# Carrega o modelo 'yolov8n.pt'. 'n' = nano, o menor e mais rápido, ideal para o RPi.\n",
        "# Ele usa \"Transfer Learning\" por padrão, pois já foi pré-treinado.\n",
        "model = YOLO('yolov8n.pt')\n",
        "\n",
        "print(\"\\nIniciando o treinamento do YOLOv8...\")\n",
        "# Inicia o treinamento usando o arquivo de configuração do dataset baixado\n",
        "results = model.train(\n",
        "    data=DATASET_CONFIG_PATH,\n",
        "    epochs=50,\n",
        "    imgsz=640,       # Tamanho da imagem para o treinamento\n",
        "    patience=5,      # Para o treino se não houver melhora por 5 épocas\n",
        "    name='yolov8n_directions_training' # Nome para a pasta de resultados\n",
        ")\n",
        "print(\"Treinamento concluído!\")"
      ],
      "metadata": {
        "id": "DgHdS4bCRhcW"
      },
      "execution_count": null,
      "outputs": []
    },
    {
      "cell_type": "code",
      "source": [
        "# 5. EXPORTAÇÃO E DOWNLOAD DO MELHOR MODELO\n",
        "# ------------------------------------------------------------------------------\n",
        "print(\"\\nExportando e preparando o modelo para download...\")\n",
        "# O melhor modelo é salvo como 'best.pt' na pasta de resultados do treino\n",
        "best_model_path = results.save_dir / 'weights' / 'best.pt'\n",
        "\n",
        "# Verifica se o arquivo existe antes de tentar fazer o download\n",
        "if os.path.exists(best_model_path):\n",
        "    print(f\"Melhor modelo encontrado em: {best_model_path}\")\n",
        "\n",
        "    # Faz o download do arquivo .pt\n",
        "    from google.colab import files\n",
        "    print(\"Iniciando o download do arquivo 'best.pt'... Aguarde a janela do navegador.\")\n",
        "    files.download(best_model_path)\n",
        "else:\n",
        "    print(f\"ERRO: O modelo treinado ('best.pt') não foi encontrado no caminho esperado.\")"
      ],
      "metadata": {
        "id": "48qAuyaPReii"
      },
      "execution_count": null,
      "outputs": []
    }
  ]
}